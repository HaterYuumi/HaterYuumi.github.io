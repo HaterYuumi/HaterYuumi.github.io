{
 "cells": [
  {
   "cell_type": "code",
   "execution_count": 1,
   "id": "ffb2d2f1",
   "metadata": {},
   "outputs": [
    {
     "name": "stdout",
     "output_type": "stream",
     "text": [
      "Hello_world\n"
     ]
    }
   ],
   "source": [
    "print('Hello_world') #выводит значения\\текст"
   ]
  },
  {
   "cell_type": "code",
   "execution_count": 2,
   "id": "06af4fea",
   "metadata": {},
   "outputs": [
    {
     "name": "stdout",
     "output_type": "stream",
     "text": [
      "45лет\n",
      "45лет\n"
     ]
    }
   ],
   "source": [
    "print(input()) #выводит данные введеные с клавиатуры в виде строк"
   ]
  },
  {
   "cell_type": "code",
   "execution_count": 3,
   "id": "084e7c09",
   "metadata": {},
   "outputs": [
    {
     "name": "stdout",
     "output_type": "stream",
     "text": [
      "5\n",
      "oaoaa\n",
      "oaoaa\n",
      "oaoaa\n",
      "oaoaa\n",
      "oaoaa\n"
     ]
    }
   ],
   "source": [
    "for i in range(int(input())):\n",
    "    print('oaoaa')\n",
    "#пишет 'оаоаа' сколько заддано с кавиатуры"
   ]
  },
  {
   "cell_type": "code",
   "execution_count": 6,
   "id": "c223ecca",
   "metadata": {},
   "outputs": [
    {
     "name": "stdout",
     "output_type": "stream",
     "text": [
      "2\n",
      "капибара\n",
      "капибара\n",
      "капибара\n",
      "капибара\n",
      "капибара\n"
     ]
    }
   ],
   "source": [
    "# цкил с условием\n",
    "i=0\n",
    "x=int(input())\n",
    "while (i<10) and (i>-10):\n",
    "    print('капибара')\n",
    "    i+=x\n",
    "# будет писать капибара, пока значение i не выйдет из промежутка [-10; 10], изменение за счет введеного числа с клавиатуры"
   ]
  },
  {
   "cell_type": "code",
   "execution_count": 7,
   "id": "a0601339",
   "metadata": {},
   "outputs": [
    {
     "ename": "SyntaxError",
     "evalue": "cannot assign to operator (4275247987.py, line 3)",
     "output_type": "error",
     "traceback": [
      "\u001b[1;36m  Cell \u001b[1;32mIn [7], line 3\u001b[1;36m\u001b[0m\n\u001b[1;33m    x+y=z\u001b[0m\n\u001b[1;37m    ^\u001b[0m\n\u001b[1;31mSyntaxError\u001b[0m\u001b[1;31m:\u001b[0m cannot assign to operator\n"
     ]
    }
   ],
   "source": [
    "# выпoлнение функций \n",
    "def summa(x,y):\n",
    "    x+y=z\n",
    "    return z\n",
    "def difference(x,y):\n",
    "    x-y=z\n",
    "    return z\n",
    "def multiplication(x,y):\n",
    "    x*y=z\n",
    "    return z\n",
    "def division(x,y):\n",
    "    float(x)/float(y)=z\n",
    "с=(input('выберите функцию \\n сложение \\n вычитание \\n умножение \\n деление'))\n",
    "if c=='сложение':\n",
    "    print(summa(x=int(input('введите значение x'))\n",
    "y=int(input('введите значение у'))))\n",
    "elif c=='разность':\n",
    "    print(difference(x=int(input('введите значение x'))\n",
    "y=int(input('введите значение у'))))\n",
    "elif c=='умножение':\n",
    "    print(multiplication(x=int(input('введите значение x'))\n",
    "y=int(input('введите значение у'))))\n",
    "elif c=='деление':\n",
    "    print(division(x=int(input('введите значение x'))\n",
    "y=int(input('введите значение у'))))"
   ]
  },
  {
   "cell_type": "code",
   "execution_count": null,
   "id": "ef3a6183",
   "metadata": {},
   "outputs": [],
   "source": []
  }
 ],
 "metadata": {
  "kernelspec": {
   "display_name": "Python 3 (ipykernel)",
   "language": "python",
   "name": "python3"
  },
  "language_info": {
   "codemirror_mode": {
    "name": "ipython",
    "version": 3
   },
   "file_extension": ".py",
   "mimetype": "text/x-python",
   "name": "python",
   "nbconvert_exporter": "python",
   "pygments_lexer": "ipython3",
   "version": "3.9.13"
  }
 },
 "nbformat": 4,
 "nbformat_minor": 5
}
